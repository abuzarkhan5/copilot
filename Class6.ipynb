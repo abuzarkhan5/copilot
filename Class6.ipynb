{
  "nbformat": 4,
  "nbformat_minor": 0,
  "metadata": {
    "colab": {
      "provenance": [],
      "authorship_tag": "ABX9TyPlF4zvSDNkKq4AhlhT27hA",
      "include_colab_link": true
    },
    "kernelspec": {
      "name": "python3",
      "display_name": "Python 3"
    },
    "language_info": {
      "name": "python"
    }
  },
  "cells": [
    {
      "cell_type": "markdown",
      "metadata": {
        "id": "view-in-github",
        "colab_type": "text"
      },
      "source": [
        "<a href=\"https://colab.research.google.com/github/abuzarkhan5/copilot/blob/main/Class6.ipynb\" target=\"_parent\"><img src=\"https://colab.research.google.com/assets/colab-badge.svg\" alt=\"Open In Colab\"/></a>"
      ]
    },
    {
      "cell_type": "code",
      "execution_count": 11,
      "metadata": {
        "colab": {
          "base_uri": "https://localhost:8080/"
        },
        "id": "htedURMou1NE",
        "outputId": "615d192a-bd23-43e5-c488-96e140f57f88"
      },
      "outputs": [
        {
          "output_type": "stream",
          "name": "stdout",
          "text": [
            "Hi! Abuzar\n"
          ]
        }
      ],
      "source": [
        "# Functoin\n",
        "# What is Function?\n",
        "# we define function.\n",
        "# lets Greet\n",
        "print(\"Hi! Abuzar\")\n",
        "# why we use function?\n",
        "# because it saves us repetition.\n",
        "# because help us organize our code.\n",
        "# syntax\n",
        "def function_name(parameter):\n",
        "  # code block\n",
        "  return value\n",
        "\n"
      ]
    },
    {
      "cell_type": "code",
      "source": [
        "# lets Greet through Function\n",
        "def greet():\n",
        "  # block of code\n",
        "  print(\"Hello! Abuzar\")\n",
        "\n",
        "  # calling the function\n",
        "greet()"
      ],
      "metadata": {
        "colab": {
          "base_uri": "https://localhost:8080/"
        },
        "id": "aGciaVwqxEo0",
        "outputId": "68b9e3eb-ab02-46f2-c971-dcc78fc1ddc3"
      },
      "execution_count": 12,
      "outputs": [
        {
          "output_type": "stream",
          "name": "stdout",
          "text": [
            "Hello! Abuzar\n"
          ]
        }
      ]
    },
    {
      "cell_type": "code",
      "source": [
        "# lets create a function with parameter\n",
        "def greet(name):\n",
        "  # block code\n",
        "   print(f\"Hi! {name}\")\n",
        "   # lets call the funtion with parameter\n",
        "greet(\"Khan\")\n",
        "greet(\"Abuzar\")"
      ],
      "metadata": {
        "colab": {
          "base_uri": "https://localhost:8080/"
        },
        "id": "cYw6Fdtazwvm",
        "outputId": "95502d33-2c2a-45df-c3f3-e6458c574e4d"
      },
      "execution_count": 13,
      "outputs": [
        {
          "output_type": "stream",
          "name": "stdout",
          "text": [
            "Hi! Khan\n",
            "Hi! Abuzar\n"
          ]
        }
      ]
    },
    {
      "cell_type": "code",
      "source": [
        "# lets create a function with Return Value\n",
        "def add_two(a , b):\n",
        "  # block of code\n",
        "  c = a + b\n",
        "  return c\n",
        "\n",
        "add_two(10,20)"
      ],
      "metadata": {
        "colab": {
          "base_uri": "https://localhost:8080/"
        },
        "id": "miZks96B3_A5",
        "outputId": "6816a875-a12a-4d63-89e3-bff1ca5af7fd"
      },
      "execution_count": 14,
      "outputs": [
        {
          "output_type": "execute_result",
          "data": {
            "text/plain": [
              "30"
            ]
          },
          "metadata": {},
          "execution_count": 14
        }
      ]
    },
    {
      "cell_type": "code",
      "source": [
        "# Define Default Parameter\n",
        "def greet_with_drefault(name = \"Guest\"):\n",
        "  print(f\"Hello {name}\")\n",
        "  # lets call the function\n",
        "\n",
        "greet_with_drefault()\n",
        "greet_with_drefault(\"Abuzar\")\n",
        "\n",
        "# lets create a function with Return\n",
        "def add_two(a = 10 , b = 20):\n",
        "  # block of code\n",
        "  c = a + b\n",
        "  return c\n",
        "add_two()\n",
        "add_two(1,2)\n",
        "add_two()\n"
      ],
      "metadata": {
        "colab": {
          "base_uri": "https://localhost:8080/"
        },
        "id": "f_WuJ-Onrl1Q",
        "outputId": "3d2dca94-4670-4634-fb1a-03be85ede0f0"
      },
      "execution_count": 15,
      "outputs": [
        {
          "output_type": "stream",
          "name": "stdout",
          "text": [
            "Hello Guest\n",
            "Hello Abuzar\n"
          ]
        },
        {
          "output_type": "execute_result",
          "data": {
            "text/plain": [
              "30"
            ]
          },
          "metadata": {},
          "execution_count": 15
        }
      ]
    },
    {
      "cell_type": "code",
      "source": [
        "print(\"Step 1: Boil Water\")\n",
        "print(\"Step 2: Add Milk\")\n",
        "print(\"Step 3: Add Patti\")\n",
        "print(\"Step 4: Serve Tea\")\n",
        "tea1 = \"☕\"\n"
      ],
      "metadata": {
        "colab": {
          "base_uri": "https://localhost:8080/"
        },
        "id": "u5tXqQgLx6BA",
        "outputId": "884be449-ef6d-4958-b440-e3bd2149f272"
      },
      "execution_count": 16,
      "outputs": [
        {
          "output_type": "stream",
          "name": "stdout",
          "text": [
            "Step 1: Boil Water\n",
            "Step 2: Add Milk\n",
            "Step 3: Add Patti\n",
            "Step 4: Serve Tea\n"
          ]
        }
      ]
    },
    {
      "cell_type": "code",
      "source": [
        "print(\"Step 1: Boil Water\")\n",
        "print(\"Step 2: Add Milk\")\n",
        "print(\"Step 3: Add Patti\")\n",
        "print(\"Step 4: Serve Tea\")\n",
        "tea1 = \"☕\""
      ],
      "metadata": {
        "colab": {
          "base_uri": "https://localhost:8080/"
        },
        "id": "aNAFG2VV1J58",
        "outputId": "1d8182c2-8d4c-4411-b83b-e517a6504a94"
      },
      "execution_count": 17,
      "outputs": [
        {
          "output_type": "stream",
          "name": "stdout",
          "text": [
            "Step 1: Boil Water\n",
            "Step 2: Add Milk\n",
            "Step 3: Add Patti\n",
            "Step 4: Serve Tea\n"
          ]
        }
      ]
    },
    {
      "cell_type": "code",
      "source": [
        "def make_tea():\n",
        "  print(\"Step 1: Boil Water\")\n",
        "  print(\"Step 2: Add Milk\")\n",
        "  print(\"Step 3: Add Patti\")\n",
        "  print(\"Step 4: Serve Tea\")\n",
        "  return \"☕\"\n",
        "tea1 = make_tea()\n",
        "print(f\"Tea 1: {tea1} for Khan\")\n",
        "tea2 = make_tea()\n",
        "print(f\"{tea2} for Abuzar\")\n"
      ],
      "metadata": {
        "colab": {
          "base_uri": "https://localhost:8080/"
        },
        "id": "HVAEn0Pe1Pif",
        "outputId": "cecc6d00-1051-4f9c-fa42-1d7e979bd2f6"
      },
      "execution_count": 18,
      "outputs": [
        {
          "output_type": "stream",
          "name": "stdout",
          "text": [
            "Step 1: Boil Water\n",
            "Step 2: Add Milk\n",
            "Step 3: Add Patti\n",
            "Step 4: Serve Tea\n",
            "Tea 1: ☕ for Khan\n",
            "Step 1: Boil Water\n",
            "Step 2: Add Milk\n",
            "Step 3: Add Patti\n",
            "Step 4: Serve Tea\n",
            "☕ for Abuzar\n"
          ]
        }
      ]
    },
    {
      "cell_type": "code",
      "source": [
        "# Parameter function\n",
        "def call_llm(prompt): # words in (prompt) is called parameter\n",
        " print(f\"name: {prompt}\")\n",
        " return \"AI: Hello, How can I assist you today?\"\n",
        "response = call_llm(\"Hello, Hi Abuzar.\") # argument\n",
        "#  or\n",
        "response = call_llm(prompt=\"Hello, Hi Abuzar.\") # keyword argument\n",
        "print(response)"
      ],
      "metadata": {
        "colab": {
          "base_uri": "https://localhost:8080/"
        },
        "id": "3rhmpNNnYOU5",
        "outputId": "8ce699b3-a7c3-4334-fafd-b1545adbf74b"
      },
      "execution_count": 19,
      "outputs": [
        {
          "output_type": "stream",
          "name": "stdout",
          "text": [
            "name: Hello, Hi Abuzar.\n",
            "name: Hello, Hi Abuzar.\n",
            "AI: Hello, How can I assist you today?\n"
          ]
        }
      ]
    },
    {
      "cell_type": "code",
      "source": [
        "# assignment\n",
        "def roll_dice(limit = 6):\n",
        "  import random\n",
        "  return random.randint(1, limit)\n",
        "print( roll_dice(12))\n",
        "\n",
        "print( roll_dice(24))\n",
        "\n",
        "print( roll_dice(6))\n",
        "\n"
      ],
      "metadata": {
        "colab": {
          "base_uri": "https://localhost:8080/"
        },
        "id": "n59Dvv_0fEYK",
        "outputId": "50d8587e-3cb9-4c32-dcda-4f08bf07edb3"
      },
      "execution_count": 20,
      "outputs": [
        {
          "output_type": "stream",
          "name": "stdout",
          "text": [
            "3\n",
            "4\n",
            "1\n"
          ]
        }
      ]
    }
  ]
}